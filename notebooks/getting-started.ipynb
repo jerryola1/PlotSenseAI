{
 "cells": [
  {
   "cell_type": "markdown",
   "metadata": {},
   "source": "# PlotSense Demo - Quick Instructions\n\n**Step 1:** Get free API key at https://console.groq.com/keys  \n**Step 2:** Click \"Run\" → \"Run Selected Cell and All Below\"  \n**Step 3:** When prompted, paste your API key  \n\nThat's it! The demo will run automatically."
  },
  {
   "cell_type": "markdown",
   "metadata": {},
   "source": "## Installing PlotSense..."
  },
  {
   "cell_type": "code",
   "execution_count": null,
   "metadata": {},
   "outputs": [],
   "source": [
    "# force fresh installation of plotsense\n",
    "import sys\n",
    "!{sys.executable} -m pip uninstall plotsense -y\n",
    "!{sys.executable} -m pip install plotsense\n",
    "print(\"PlotSense freshly installed!\")"
   ]
  },
  {
   "cell_type": "code",
   "execution_count": null,
   "metadata": {},
   "outputs": [],
   "source": "# setup plotsense with your api key\nimport pandas as pd\nimport plotsense as ps\nfrom plotsense import recommender, plotgen, explainer\nimport os\n\n# simple api key input for non-technical users\napi_key = input(\"Please paste your Groq API key here: \")\nos.environ['GROQ_API_KEY'] = api_key\n\nprint(\"PlotSense ready!\")"
  },
  {
   "cell_type": "markdown",
   "metadata": {},
   "source": "## Creating sample data..."
  },
  {
   "cell_type": "code",
   "execution_count": null,
   "metadata": {},
   "outputs": [],
   "source": [
    "# create sample dataset using plotsense\n",
    "import numpy as np\n",
    "\n",
    "# create sample data similar to titanic for demo\n",
    "np.random.seed(42)\n",
    "n_samples = 100\n",
    "\n",
    "data = {\n",
    "    'age': np.random.normal(35, 15, n_samples),\n",
    "    'fare': np.random.exponential(20, n_samples), \n",
    "    'class': np.random.choice(['first', 'second', 'third'], n_samples),\n",
    "    'survived': np.random.choice([0, 1], n_samples, p=[0.6, 0.4])\n",
    "}\n",
    "\n",
    "df = pd.DataFrame(data)\n",
    "df['age'] = df['age'].clip(0, 80)  # realistic age range\n",
    "\n",
    "print(f\"Sample dataset created: {df.shape}\")\n",
    "print(f\"Columns: {list(df.columns)}\")\n",
    "df.head()"
   ]
  },
  {
   "cell_type": "markdown",
   "metadata": {},
   "source": "## Getting AI recommendations..."
  },
  {
   "cell_type": "code",
   "execution_count": null,
   "metadata": {},
   "outputs": [],
   "source": [
    "# get ai-powered visualization recommendations\n",
    "print(\"Getting AI recommendations...\")\n",
    "recommendations = recommender(df, n=3)\n",
    "print(\"\\nTop 3 AI Recommendations:\")\n",
    "recommendations"
   ]
  },
  {
   "cell_type": "markdown",
   "execution_count": null,
   "metadata": {},
   "outputs": [],
   "source": "## Generating plots and explanations..."
  },
  {
   "cell_type": "code",
   "metadata": {},
   "source": "# generate plots using plotsense only\nfor i in range(len(recommendations)):\n    print(f\"\\nPlot {i+1}: {recommendations.iloc[i]['plot_type']}\")\n    fig = plotgen(df, recommendations.iloc[i])\n    \n    # get ai explanation\n    explanation = explainer(fig)\n    print(f\"AI Explanation: {explanation[:200]}...\")"
  },
  {
   "cell_type": "markdown",
   "execution_count": null,
   "metadata": {},
   "outputs": [],
   "source": "## Demo Complete!\n\nYou just used PlotSense to:\n- Get AI visualization recommendations\n- Generate publication-ready plots  \n- Get AI explanations of your data\n\n**Install PlotSense:** `pip install plotsense`  \n**GitHub:** https://github.com/christianchimezie/PlotSenseAI"
  }
 ],
 "metadata": {
  "kernelspec": {
   "display_name": "Python 3",
   "language": "python",
   "name": "python3"
  },
  "language_info": {
   "codemirror_mode": {
    "name": "ipython",
    "version": 3
   },
   "file_extension": ".py",
   "mimetype": "text/x-python",
   "name": "python",
   "nbconvert_exporter": "python",
   "pygments_lexer": "ipython3",
   "version": "3.10.9"
  }
 },
 "nbformat": 4,
 "nbformat_minor": 4
}