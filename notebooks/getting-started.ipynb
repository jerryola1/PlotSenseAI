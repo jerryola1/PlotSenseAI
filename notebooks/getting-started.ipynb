{
 "cells": [
  {
   "cell_type": "markdown",
   "metadata": {},
   "source": [
    "# Welcome to PlotSense!\n",
    "\n",
    "**AI-Powered Data Visualization for Python**\n",
    "\n",
    "This interactive demo will show you how PlotSense works in 4 simple steps:\n",
    "\n",
    "1. **Load Data** - Import your pandas DataFrame\n",
    "2. **Get AI Recommendations** - Let AI suggest the best visualizations\n",
    "3. **Generate Plots** - Create publication-ready matplotlib figures\n",
    "4. **Get Explanations** - Understand your data with AI insights\n",
    "\n",
    "---\n",
    "\n",
    "## Quick Start\n",
    "\n",
    "**Click \"Run All\" above to run the entire demo, or run each cell individually to follow along step by step.**\n",
    "\n",
    "**Important:** You'll need a free Groq API key for the AI features. Get yours at: https://console.groq.com/keys\n",
    "\n",
    "---"
   ]
  },
  {
   "cell_type": "markdown",
   "metadata": {},
   "source": [
    "## Step 1: Setup and Installation\n",
    "\n",
    "First, let's make sure PlotSense is installed and import the necessary libraries:"
   ]
  },
  {
   "cell_type": "code",
   "execution_count": null,
   "metadata": {},
   "outputs": [],
   "source": [
    "# install plotsense if not already installed\n",
    "import sys\n",
    "try:\n",
    "    import plotsense\n",
    "    print(\"PlotSense is already installed!\")\n",
    "except ImportError:\n",
    "    print(\"Installing PlotSense...\")\n",
    "    !{sys.executable} -m pip install plotsense\n",
    "    print(\"PlotSense installed successfully!\")"
   ]
  },
  {
   "cell_type": "code",
   "execution_count": null,
   "metadata": {},
   "outputs": [],
   "source": [
    "# import required libraries\n",
    "import pandas as pd\n",
    "import matplotlib.pyplot as plt\n",
    "import seaborn as sns\n",
    "import plotsense as ps\n",
    "from plotsense import recommender, plotgen, explainer\n",
    "import os\n",
    "\n",
    "print(\"All libraries imported successfully!\")\n",
    "print(f\"PlotSense version: {ps.__version__ if hasattr(ps, '__version__') else 'latest'}\")"
   ]
  },
  {
   "cell_type": "markdown",
   "metadata": {},
   "source": [
    "## Step 2: Configure API Key\n",
    "\n",
    "PlotSense uses Groq's API for AI-powered recommendations and explanations. \n",
    "\n",
    "**Get your free API key:** https://console.groq.com/keys"
   ]
  },
  {
   "cell_type": "code",
   "execution_count": null,
   "metadata": {},
   "outputs": [],
   "source": [
    "# set your groq api key here\n",
    "# option 1: set as environment variable (recommended)\n",
    "# os.environ['GROQ_API_KEY'] = 'your-api-key-here'\n",
    "\n",
    "# option 2: use plotsense's set_api_key function\n",
    "# ps.set_api_key(\"your-api-key-here\")\n",
    "\n",
    "# for demo purposes, we'll check if key is set\n",
    "api_key = os.environ.get('GROQ_API_KEY')\n",
    "if api_key:\n",
    "    print(\"Groq API key is configured!\")\n",
    "    print(f\"Key starts with: {api_key[:8]}...\")\n",
    "else:\n",
    "    print(\"Groq API key not found.\")\n",
    "    print(\"Please set your API key in the cell above to enable AI features.\")\n",
    "    print(\"Get your free key at: https://console.groq.com/keys\")"
   ]
  },
  {
   "cell_type": "markdown",
   "metadata": {},
   "source": [
    "## Step 3: Load Sample Data\n",
    "\n",
    "Let's use the classic Titanic dataset to demonstrate PlotSense capabilities:"
   ]
  },
  {
   "cell_type": "code",
   "execution_count": null,
   "metadata": {},
   "outputs": [],
   "source": [
    "# load sample data\n",
    "print(\"Loading Titanic dataset...\")\n",
    "df = sns.load_dataset(\"titanic\")\n",
    "\n",
    "print(f\"Dataset loaded successfully!\")\n",
    "print(f\"Shape: {df.shape} (rows, columns)\")\n",
    "print(f\"Columns: {list(df.columns)}\")\n",
    "\n",
    "# display first few rows\n",
    "print(\"\\nFirst 5 rows:\")\n",
    "df.head()"
   ]
  },
  {
   "cell_type": "code",
   "execution_count": null,
   "metadata": {},
   "outputs": [],
   "source": [
    "# explore the data structure\n",
    "print(\"Dataset Info:\")\n",
    "print(df.info())\n",
    "print(\"\\nSummary Statistics:\")\n",
    "df.describe()"
   ]
  },
  {
   "cell_type": "markdown",
   "metadata": {},
   "source": [
    "## Step 4: Get AI Recommendations\n",
    "\n",
    "Now let's see PlotSense's AI in action! The `recommender()` function analyzes your DataFrame and suggests the best visualization types:"
   ]
  },
  {
   "cell_type": "code",
   "execution_count": null,
   "metadata": {},
   "outputs": [],
   "source": [
    "# get ai-powered visualization recommendations\n",
    "if api_key:\n",
    "    print(\"Getting AI recommendations...\")\n",
    "    print(\"This may take a few seconds as we query multiple AI models...\")\n",
    "    \n",
    "    try:\n",
    "        # get top 5 recommendations\n",
    "        recommendations = recommender(df, n=5)\n",
    "        \n",
    "        print(\"AI recommendations generated!\")\n",
    "        print(\"\\nTop 5 Recommended Visualizations:\")\n",
    "        print(recommendations)\n",
    "        \n",
    "    except Exception as e:\n",
    "        print(f\"Error getting recommendations: {e}\")\n",
    "        print(\"This might be due to API key issues or network connectivity.\")\n",
    "        recommendations = None\n",
    "        \n",
    "else:\n",
    "    print(\"Skipping AI recommendations (no API key configured)\")\n",
    "    print(\"Set your Groq API key above to see AI recommendations in action!\")\n",
    "    recommendations = None"
   ]
  },
  {
   "cell_type": "markdown",
   "metadata": {},
   "source": [
    "## Step 5: Generate Plots\n",
    "\n",
    "Now let's create some visualizations! We'll use PlotSense's `plotgen()` function to generate matplotlib figures:"
   ]
  },
  {
   "cell_type": "code",
   "execution_count": null,
   "metadata": {},
   "outputs": [],
   "source": [
    "# generate plots from recommendations\n",
    "if recommendations is not None and len(recommendations) > 0:\n",
    "    print(\"Generating plots from AI recommendations...\")\n",
    "    \n",
    "    # generate first 3 recommended plots\n",
    "    for i in range(min(3, len(recommendations))):\n",
    "        try:\n",
    "            print(f\"\\nCreating plot {i+1}: {recommendations.iloc[i]['plot_type']}\")\n",
    "            print(f\"Variables: {recommendations.iloc[i]['variables']}\")\n",
    "            print(f\"Ensemble Score: {recommendations.iloc[i].get('ensemble_score', 'N/A')}\")\n",
    "            \n",
    "            # generate the plot\n",
    "            fig = plotgen(df, recommendations.iloc[i])\n",
    "            plt.show()\n",
    "            \n",
    "        except Exception as e:\n",
    "            print(f\"Error generating plot {i+1}: {e}\")\n",
    "            \n",
    "else:\n",
    "    print(\"Creating sample visualizations manually...\")\n",
    "    \n",
    "    # create some basic plots manually\n",
    "    fig, axes = plt.subplots(2, 2, figsize=(12, 10))\n",
    "    fig.suptitle('PlotSense Sample Visualizations', fontsize=16, fontweight='bold')\n",
    "    \n",
    "    # plot 1: survival by class\n",
    "    sns.countplot(data=df, x='class', hue='survived', ax=axes[0,0])\n",
    "    axes[0,0].set_title('Survival by Passenger Class')\n",
    "    \n",
    "    # plot 2: age distribution\n",
    "    df['age'].hist(bins=30, ax=axes[0,1], alpha=0.7)\n",
    "    axes[0,1].set_title('Age Distribution')\n",
    "    axes[0,1].set_xlabel('Age')\n",
    "    \n",
    "    # plot 3: fare vs age\n",
    "    sns.scatterplot(data=df, x='age', y='fare', hue='survived', ax=axes[1,0])\n",
    "    axes[1,0].set_title('Fare vs Age (colored by survival)')\n",
    "    \n",
    "    # plot 4: survival by sex\n",
    "    sns.countplot(data=df, x='sex', hue='survived', ax=axes[1,1])\n",
    "    axes[1,1].set_title('Survival by Gender')\n",
    "    \n",
    "    plt.tight_layout()\n",
    "    plt.show()"
   ]
  },
  {
   "cell_type": "markdown",
   "metadata": {},
   "source": [
    "## Step 6: Get AI Explanations\n",
    "\n",
    "Finally, let's use PlotSense's `explainer()` function to get natural language explanations of our visualizations:"
   ]
  },
  {
   "cell_type": "code",
   "execution_count": null,
   "metadata": {},
   "outputs": [],
   "source": [
    "# get ai explanation for a plot\n",
    "if api_key:\n",
    "    print(\"Getting AI explanation for visualization...\")\n",
    "    \n",
    "    # create a simple plot for explanation\n",
    "    plt.figure(figsize=(10, 6))\n",
    "    sns.countplot(data=df, x='class', hue='survived')\n",
    "    plt.title('Survival by Passenger Class')\n",
    "    plt.xlabel('Passenger Class')\n",
    "    plt.ylabel('Count')\n",
    "    current_fig = plt.gcf()\n",
    "    plt.show()\n",
    "    \n",
    "    try:\n",
    "        print(\"\\nGenerating AI explanation...\")\n",
    "        explanation = explainer(current_fig)\n",
    "        \n",
    "        print(\"\\nAI Explanation Generated!\")\n",
    "        print(\"=\"*50)\n",
    "        print(explanation)\n",
    "        print(\"=\"*50)\n",
    "        \n",
    "    except Exception as e:\n",
    "        print(f\"Error generating explanation: {e}\")\n",
    "        print(\"This might be due to API limitations or network issues.\")\n",
    "        \n",
    "else:\n",
    "    print(\"Skipping AI explanation (no API key configured)\")\n",
    "    print(\"Set your Groq API key above to see AI explanations in action!\")\n",
    "    \n",
    "    # show a sample plot anyway\n",
    "    plt.figure(figsize=(10, 6))\n",
    "    sns.countplot(data=df, x='class', hue='survived')\n",
    "    plt.title('Survival by Passenger Class')\n",
    "    plt.xlabel('Passenger Class')\n",
    "    plt.ylabel('Count')\n",
    "    plt.show()\n",
    "    \n",
    "    print(\"\\nSample Explanation (what AI would generate):\")\n",
    "    print(\"\"\"This bar chart reveals significant class-based survival patterns in the Titanic disaster. \n",
    "    First-class passengers had the highest survival rate, while third-class passengers faced \n",
    "    the lowest survival chances, highlighting socioeconomic disparities in emergency response.\"\"\")"
   ]
  },
  {
   "cell_type": "markdown",
   "metadata": {},
   "source": [
    "## Congratulations!\n",
    "\n",
    "You've successfully completed the PlotSense demo! Here's what you've learned:\n",
    "\n",
    "### What You've Accomplished:\n",
    "1. **Installed PlotSense** - Ready to use in your own projects\n",
    "2. **AI Recommendations** - Saw how ensemble AI models suggest optimal visualizations\n",
    "3. **Plot Generation** - Created matplotlib figures with minimal code\n",
    "4. **AI Explanations** - Generated natural language insights from visualizations\n",
    "\n",
    "### Next Steps:\n",
    "1. **Install locally**: `pip install plotsense`\n",
    "2. **Get your API key**: https://console.groq.com/keys (free tier available)\n",
    "3. **Try with your data**: Load your own pandas DataFrame\n",
    "4. **Explore documentation**: Visit the PlotSense GitHub repository\n",
    "\n",
    "### Learn More:\n",
    "- **GitHub Repository**: https://github.com/christianchimezie/PlotSenseAI\n",
    "- **Documentation**: Check the README for detailed usage examples\n",
    "- **Issue Tracker**: Report bugs or request features\n",
    "\n",
    "### Pro Tips:\n",
    "- Use `recommender(df, n=10)` to get more suggestions\n",
    "- Try `explainer(fig, max_iterations=3)` for more detailed explanations\n",
    "- Customize plots using standard matplotlib/seaborn techniques\n",
    "\n",
    "---"
   ]
  }
 ],
 "metadata": {
  "kernelspec": {
   "display_name": "Python 3",
   "language": "python",
   "name": "python3"
  },
  "language_info": {
   "codemirror_mode": {
    "name": "ipython",
    "version": 3
   },
   "file_extension": ".py",
   "mimetype": "text/x-python",
   "name": "python",
   "nbconvert_exporter": "python",
   "pygments_lexer": "ipython3",
   "version": "3.8.0"
  }
 },
 "nbformat": 4,
 "nbformat_minor": 4
}
