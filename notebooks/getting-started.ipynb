{
 "cells": [
  {
   "cell_type": "markdown",
   "metadata": {},
   "source": [
    "# PlotSense Interactive Demo\n",
    "\n",
    "**AI-Powered Data Visualization for Python**\n",
    "\n",
    "Experience PlotSense in 4 steps:\n",
    "1. Install & Setup\n",
    "2. Load Data \n",
    "3. Get AI Recommendations\n",
    "4. Generate Plots & Explanations\n",
    "\n",
    "**Get your free Groq API key:** https://console.groq.com/keys"
   ]
  },
  {
   "cell_type": "markdown",
   "metadata": {},
   "source": [
    "## Step 1: Install PlotSense"
   ]
  },
  {
   "cell_type": "code",
   "execution_count": null,
   "metadata": {},
   "outputs": [],
   "source": [
    "# force fresh installation of plotsense\n",
    "import sys\n",
    "!{sys.executable} -m pip uninstall plotsense -y\n",
    "!{sys.executable} -m pip install plotsense\n",
    "print(\"PlotSense freshly installed!\")"
   ]
  },
  {
   "cell_type": "code",
   "execution_count": null,
   "metadata": {},
   "outputs": [],
   "source": [
    "# import libraries and set api key\n",
    "import pandas as pd\n",
    "import plotsense as ps\n",
    "from plotsense import recommender, plotgen, explainer\n",
    "import os\n",
    "\n",
    "# set your groq api key here\n",
    "os.environ['GROQ_API_KEY'] = 'your-api-key-here'  \n",
    "\n",
    "print(f\"PlotSense ready! Version: {ps.__version__ if hasattr(ps, '__version__') else 'latest'}\")"
   ]
  },
  {
   "cell_type": "markdown",
   "metadata": {},
   "source": [
    "## Step 2: Load Sample Data"
   ]
  },
  {
   "cell_type": "code",
   "execution_count": null,
   "metadata": {},
   "outputs": [],
   "source": [
    "# create sample dataset using plotsense\n",
    "import numpy as np\n",
    "\n",
    "# create sample data similar to titanic for demo\n",
    "np.random.seed(42)\n",
    "n_samples = 100\n",
    "\n",
    "data = {\n",
    "    'age': np.random.normal(35, 15, n_samples),\n",
    "    'fare': np.random.exponential(20, n_samples), \n",
    "    'class': np.random.choice(['first', 'second', 'third'], n_samples),\n",
    "    'survived': np.random.choice([0, 1], n_samples, p=[0.6, 0.4])\n",
    "}\n",
    "\n",
    "df = pd.DataFrame(data)\n",
    "df['age'] = df['age'].clip(0, 80)  # realistic age range\n",
    "\n",
    "print(f\"Sample dataset created: {df.shape}\")\n",
    "print(f\"Columns: {list(df.columns)}\")\n",
    "df.head()"
   ]
  },
  {
   "cell_type": "markdown",
   "metadata": {},
   "source": [
    "## Step 3: Get AI Recommendations"
   ]
  },
  {
   "cell_type": "code",
   "execution_count": null,
   "metadata": {},
   "outputs": [],
   "source": [
    "# get ai-powered visualization recommendations\n",
    "print(\"Getting AI recommendations...\")\n",
    "recommendations = recommender(df, n=3)\n",
    "print(\"\\nTop 3 AI Recommendations:\")\n",
    "recommendations"
   ]
  },
  {
   "cell_type": "markdown",
   "execution_count": null,
   "metadata": {},
   "outputs": [],
   "source": "## Step 4: Generate Plots with PlotSense"
  },
  {
   "cell_type": "code",
   "metadata": {},
   "source": "# generate plots using plotsense only\nfor i in range(len(recommendations)):\n    print(f\"\\nPlot {i+1}: {recommendations.iloc[i]['plot_type']}\")\n    fig = plotgen(df, recommendations.iloc[i])\n    \n    # get ai explanation\n    explanation = explainer(fig)\n    print(f\"AI Explanation: {explanation[:200]}...\")"
  },
  {
   "cell_type": "markdown",
   "execution_count": null,
   "metadata": {},
   "outputs": [],
   "source": "## Success!\n\nYou've successfully used PlotSense's core features:\n- **recommender()** - AI suggests best visualizations\n- **plotgen()** - Generates publication-ready plots  \n- **explainer()** - AI explains your visualizations\n\n**Next Steps:**\n1. Install locally: `pip install plotsense`\n2. Try with your own data\n3. Visit: https://github.com/christianchimezie/PlotSenseAI"
  },
  {
   "cell_type": "code",
   "execution_count": null,
   "metadata": {},
   "outputs": [],
   "source": [
    "# get ai explanation for a plot\n",
    "if api_key:\n",
    "    print(\"Getting AI explanation for visualization...\")\n",
    "    \n",
    "    # create a simple plot for explanation\n",
    "    plt.figure(figsize=(10, 6))\n",
    "    sns.countplot(data=df, x='class', hue='survived')\n",
    "    plt.title('Survival by Passenger Class')\n",
    "    plt.xlabel('Passenger Class')\n",
    "    plt.ylabel('Count')\n",
    "    current_fig = plt.gcf()\n",
    "    plt.show()\n",
    "    \n",
    "    try:\n",
    "        print(\"\\nGenerating AI explanation...\")\n",
    "        explanation = explainer(current_fig)\n",
    "        \n",
    "        print(\"\\nAI Explanation Generated!\")\n",
    "        print(\"=\"*50)\n",
    "        print(explanation)\n",
    "        print(\"=\"*50)\n",
    "        \n",
    "    except Exception as e:\n",
    "        print(f\"Error generating explanation: {e}\")\n",
    "        print(\"This might be due to API limitations or network issues.\")\n",
    "        \n",
    "else:\n",
    "    print(\"Skipping AI explanation (no API key configured)\")\n",
    "    print(\"Set your Groq API key above to see AI explanations in action!\")\n",
    "    \n",
    "    # show a sample plot anyway\n",
    "    plt.figure(figsize=(10, 6))\n",
    "    sns.countplot(data=df, x='class', hue='survived')\n",
    "    plt.title('Survival by Passenger Class')\n",
    "    plt.xlabel('Passenger Class')\n",
    "    plt.ylabel('Count')\n",
    "    plt.show()\n",
    "    \n",
    "    print(\"\\nSample Explanation (what AI would generate):\")\n",
    "    print(\"\"\"This bar chart reveals significant class-based survival patterns in the Titanic disaster. \n",
    "    First-class passengers had the highest survival rate, while third-class passengers faced \n",
    "    the lowest survival chances, highlighting socioeconomic disparities in emergency response.\"\"\")"
   ]
  }
 ],
 "metadata": {
  "kernelspec": {
   "display_name": "Python 3",
   "language": "python",
   "name": "python3"
  },
  "language_info": {
   "codemirror_mode": {
    "name": "ipython",
    "version": 3
   },
   "file_extension": ".py",
   "mimetype": "text/x-python",
   "name": "python",
   "nbconvert_exporter": "python",
   "pygments_lexer": "ipython3",
   "version": "3.10.9"
  }
 },
 "nbformat": 4,
 "nbformat_minor": 4
}