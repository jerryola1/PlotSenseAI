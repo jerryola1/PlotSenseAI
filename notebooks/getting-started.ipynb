{
 "cells": [
  {
   "cell_type": "markdown",
   "metadata": {},
   "source": "# PlotSense Interactive Demo\n\n**AI-Powered Data Visualization for Python**\n\nExperience PlotSense in 4 steps:\n1. Install & Setup\n2. Load Data \n3. Get AI Recommendations\n4. Generate Plots & Explanations\n\n**Get your free Groq API key:** https://console.groq.com/keys"
  },
  {
   "cell_type": "markdown",
   "metadata": {},
   "source": "## Step 1: Install PlotSense"
  },
  {
   "cell_type": "code",
   "execution_count": null,
   "metadata": {},
   "outputs": [],
   "source": "# force fresh installation of plotsense\nimport sys\n!{sys.executable} -m pip uninstall plotsense -y\n!{sys.executable} -m pip install plotsense\nprint(\"PlotSense freshly installed!\")"
  },
  {
   "cell_type": "code",
   "execution_count": null,
   "metadata": {},
   "outputs": [],
   "source": "# import libraries and set api key\nimport pandas as pd\nimport plotsense as ps\nfrom plotsense import recommender, plotgen, explainer\nimport os\n\n# set your groq api key here\nos.environ['GROQ_API_KEY'] = 'your-api-key-here'  # replace with your key\n\nprint(f\"PlotSense ready! Version: {ps.__version__ if hasattr(ps, '__version__') else 'latest'}\")"
  },
  {
   "cell_type": "markdown",
   "metadata": {},
   "source": "## Step 2: Load Sample Data"
  },
  {
   "cell_type": "code",
   "execution_count": null,
   "metadata": {},
   "outputs": [],
   "source": "# create sample dataset using plotsense\nimport numpy as np\n\n# create sample data similar to titanic for demo\nnp.random.seed(42)\nn_samples = 100\n\ndata = {\n    'age': np.random.normal(35, 15, n_samples),\n    'fare': np.random.exponential(20, n_samples), \n    'class': np.random.choice(['first', 'second', 'third'], n_samples),\n    'survived': np.random.choice([0, 1], n_samples, p=[0.6, 0.4])\n}\n\ndf = pd.DataFrame(data)\ndf['age'] = df['age'].clip(0, 80)  # realistic age range\n\nprint(f\"Sample dataset created: {df.shape}\")\nprint(f\"Columns: {list(df.columns)}\")\ndf.head()"
  },
  {
   "cell_type": "markdown",
   "metadata": {},
   "source": "## Step 3: Get AI Recommendations"
  },
  {
   "cell_type": "code",
   "execution_count": null,
   "metadata": {},
   "outputs": [],
   "source": "# get ai-powered visualization recommendations\nprint(\"Getting AI recommendations...\")\nrecommendations = recommender(df, n=3)\nprint(\"\\nTop 3 AI Recommendations:\")\nrecommendations"
  },
  {
   "cell_type": "code",
   "execution_count": null,
   "metadata": {},
   "outputs": [],
   "source": "## Step 4: Generate Plots with PlotSense"
  },
  {
   "cell_type": "markdown",
   "metadata": {},
   "source": "# generate plots using plotsense\nfor i in range(len(recommendations)):\n    print(f\"\\nPlot {i+1}: {recommendations.iloc[i]['plot_type']}\")\n    fig = plotgen(df, recommendations.iloc[i])\n    \n    # get ai explanation\n    explanation = explainer(fig)\n    print(f\"AI Explanation: {explanation[:200]}...\")  # truncate for demo"
  },
  {
   "cell_type": "code",
   "execution_count": null,
   "metadata": {},
   "outputs": [],
   "source": "## Success!\n\nYou've successfully used PlotSense's core features:\n- **recommender()** - AI suggests best visualizations\n- **plotgen()** - Generates publication-ready plots  \n- **explainer()** - AI explains your visualizations\n\n**Next Steps:**\n1. Install locally: `pip install plotsense`\n2. Try with your own data\n3. Visit: https://github.com/christianchimezie/PlotSenseAI"
  },
  {
   "cell_type": "code",
   "execution_count": null,
   "metadata": {},
   "outputs": [],
   "source": [
    "# generate plots from recommendations\n",
    "if recommendations is not None and len(recommendations) > 0:\n",
    "    print(\"Generating plots from AI recommendations...\")\n",
    "    \n",
    "    # generate first 3 recommended plots\n",
    "    for i in range(min(3, len(recommendations))):\n",
    "        try:\n",
    "            print(f\"\\nCreating plot {i+1}: {recommendations.iloc[i]['plot_type']}\")\n",
    "            print(f\"Variables: {recommendations.iloc[i]['variables']}\")\n",
    "            print(f\"Ensemble Score: {recommendations.iloc[i].get('ensemble_score', 'N/A')}\")\n",
    "            \n",
    "            # generate the plot\n",
    "            fig = plotgen(df, recommendations.iloc[i])\n",
    "            plt.show()\n",
    "            \n",
    "        except Exception as e:\n",
    "            print(f\"Error generating plot {i+1}: {e}\")\n",
    "            \n",
    "else:\n",
    "    print(\"Creating sample visualizations manually...\")\n",
    "    \n",
    "    # create some basic plots manually\n",
    "    fig, axes = plt.subplots(2, 2, figsize=(12, 10))\n",
    "    fig.suptitle('PlotSense Sample Visualizations', fontsize=16, fontweight='bold')\n",
    "    \n",
    "    # plot 1: survival by class\n",
    "    sns.countplot(data=df, x='class', hue='survived', ax=axes[0,0])\n",
    "    axes[0,0].set_title('Survival by Passenger Class')\n",
    "    \n",
    "    # plot 2: age distribution\n",
    "    df['age'].hist(bins=30, ax=axes[0,1], alpha=0.7)\n",
    "    axes[0,1].set_title('Age Distribution')\n",
    "    axes[0,1].set_xlabel('Age')\n",
    "    \n",
    "    # plot 3: fare vs age\n",
    "    sns.scatterplot(data=df, x='age', y='fare', hue='survived', ax=axes[1,0])\n",
    "    axes[1,0].set_title('Fare vs Age (colored by survival)')\n",
    "    \n",
    "    # plot 4: survival by sex\n",
    "    sns.countplot(data=df, x='sex', hue='survived', ax=axes[1,1])\n",
    "    axes[1,1].set_title('Survival by Gender')\n",
    "    \n",
    "    plt.tight_layout()\n",
    "    plt.show()"
   ]
  },
  {
   "cell_type": "code",
   "execution_count": null,
   "metadata": {},
   "outputs": [],
   "source": [
    "# get ai explanation for a plot\n",
    "if api_key:\n",
    "    print(\"Getting AI explanation for visualization...\")\n",
    "    \n",
    "    # create a simple plot for explanation\n",
    "    plt.figure(figsize=(10, 6))\n",
    "    sns.countplot(data=df, x='class', hue='survived')\n",
    "    plt.title('Survival by Passenger Class')\n",
    "    plt.xlabel('Passenger Class')\n",
    "    plt.ylabel('Count')\n",
    "    current_fig = plt.gcf()\n",
    "    plt.show()\n",
    "    \n",
    "    try:\n",
    "        print(\"\\nGenerating AI explanation...\")\n",
    "        explanation = explainer(current_fig)\n",
    "        \n",
    "        print(\"\\nAI Explanation Generated!\")\n",
    "        print(\"=\"*50)\n",
    "        print(explanation)\n",
    "        print(\"=\"*50)\n",
    "        \n",
    "    except Exception as e:\n",
    "        print(f\"Error generating explanation: {e}\")\n",
    "        print(\"This might be due to API limitations or network issues.\")\n",
    "        \n",
    "else:\n",
    "    print(\"Skipping AI explanation (no API key configured)\")\n",
    "    print(\"Set your Groq API key above to see AI explanations in action!\")\n",
    "    \n",
    "    # show a sample plot anyway\n",
    "    plt.figure(figsize=(10, 6))\n",
    "    sns.countplot(data=df, x='class', hue='survived')\n",
    "    plt.title('Survival by Passenger Class')\n",
    "    plt.xlabel('Passenger Class')\n",
    "    plt.ylabel('Count')\n",
    "    plt.show()\n",
    "    \n",
    "    print(\"\\nSample Explanation (what AI would generate):\")\n",
    "    print(\"\"\"This bar chart reveals significant class-based survival patterns in the Titanic disaster. \n",
    "    First-class passengers had the highest survival rate, while third-class passengers faced \n",
    "    the lowest survival chances, highlighting socioeconomic disparities in emergency response.\"\"\")"
   ]
  }
 ],
 "metadata": {
  "kernelspec": {
   "display_name": "Python 3",
   "language": "python",
   "name": "python3"
  },
  "language_info": {
   "codemirror_mode": {
    "name": "ipython",
    "version": 3
   },
   "file_extension": ".py",
   "mimetype": "text/x-python",
   "name": "python",
   "nbconvert_exporter": "python",
   "pygments_lexer": "ipython3",
   "version": "3.8.0"
  }
 },
 "nbformat": 4,
 "nbformat_minor": 4
}